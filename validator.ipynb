{
 "cells": [
  {
   "cell_type": "code",
   "execution_count": 1,
   "metadata": {
    "collapsed": true
   },
   "outputs": [],
   "source": [
    "from lxml import etree\n",
    "import xml.etree.ElementTree as ET\n",
    "import re\n",
    "import os\n",
    "import codecs\n",
    "import pandas as pd\n",
    "import numpy as np "
   ]
  },
  {
   "cell_type": "markdown",
   "metadata": {},
   "source": [
    "* правильно ли названы все слои (**done** *только если слоев столько же, сколько в шаблоне --- ето исправим попозже*)\n",
    "* совпадают ли спикеры со спикерами в мете для данного файла **done**\n",
    "* все ли файлы, указанные в метаданных, есть среди наших данных? **done** + больше или меньше **done**\n",
    "* все ли глоссы указаны в файле с глоссами?\n",
    "* правильная ли иерархия в элановском файле? (**done** *только если слоев столько же, сколько в шаблоне --- ето исправим попозже*)\n",
    "* правильные ли типы слоев? (**done** *только если слоев столько же, сколько в шаблоне --- ето исправим попозже*)\n",
    "* все ли поля в метаданных указаны правильно?\n",
    "\n",
    "если аудио корпус:\n",
    "* есть ли звуковые данные для всех файлов?\n",
    "* входит ли длительность всей разметки в длительность звукового файла?"
   ]
  },
  {
   "cell_type": "code",
   "execution_count": 2,
   "metadata": {
    "collapsed": true
   },
   "outputs": [],
   "source": [
    "#download meta data\n",
    "meta = pd.read_csv('meta.csv')"
   ]
  },
  {
   "cell_type": "code",
   "execution_count": 3,
   "metadata": {
    "collapsed": true
   },
   "outputs": [],
   "source": [
    "#download template data\n",
    "template = pd.read_csv('tier_template.csv')"
   ]
  },
  {
   "cell_type": "code",
   "execution_count": 15,
   "metadata": {
    "collapsed": true
   },
   "outputs": [],
   "source": [
    "def get_eafData(root):\n",
    "    res = []\n",
    "    for child in root:\n",
    "        if child.tag == 'TIER':\n",
    "            tier_name = child.attrib.get(\"TIER_ID\")\n",
    "            print \n",
    "            tier_arr = tier_name.split('-')\n",
    "            i = 0\n",
    "            for el in tier_arr[0].split('_'):\n",
    "                tier_arr.insert(i, el)\n",
    "                i += 1\n",
    "            tier_arr.remove(tier_arr[2])\n",
    "            tier_arr.append(child.attrib.get(\"LINGUISTIC_TYPE_REF\"))\n",
    "            parent = child.attrib.get(\"PARENT_REF\")\n",
    "            if parent != None:\n",
    "                tier_arr.append(parent.split('-')[0].split('_')[1])\n",
    "            else:\n",
    "                tier_arr.append('None')\n",
    "            res.append(tier_arr)\n",
    "    return res"
   ]
  },
  {
   "cell_type": "code",
   "execution_count": 5,
   "metadata": {
    "collapsed": true
   },
   "outputs": [],
   "source": [
    "# how many speakers in the file\n",
    "def n_speakers(data):\n",
    "    n_speakers = len(data)/6\n",
    "    if n_speakers == 1:\n",
    "        return [[0,6]]\n",
    "    if n_speakers == 2:\n",
    "        return [[0,6], [6,12]]\n",
    "    if n_speakers == 3:\n",
    "        return [[0,6], [6,12], [12,18]]"
   ]
  },
  {
   "cell_type": "code",
   "execution_count": 6,
   "metadata": {
    "collapsed": true
   },
   "outputs": [],
   "source": [
    "# check the names of the layers\n",
    "def is_names(eaf_df):\n",
    "    for index in n_speakers(eaf_df):\n",
    "        i, j = index\n",
    "        speaker = [i for i in set(eaf_df[i:j:]['speaker'])]\n",
    "        if sorted((eaf_df.tier_name[i:j:]+'-'+eaf_df.flex_type[i:j:]).tolist()) != sorted((template.tier_name +'-'+ template.flex_type).tolist()):\n",
    "            raise Exception(\"The tier names in the elan file (for speaker \" + ''.join(speaker) + \") does not match the tier names in the template (tier_name and flex_type fields).\")"
   ]
  },
  {
   "cell_type": "code",
   "execution_count": 7,
   "metadata": {
    "collapsed": true
   },
   "outputs": [],
   "source": [
    "# check the types of the layers\n",
    "def is_types(eaf_df):\n",
    "    for index in n_speakers(eaf_df):\n",
    "        i, j = index\n",
    "        speaker = [i for i in set(eaf_df[i:j:]['speaker'])]\n",
    "        if sorted((eaf_df.tier_name[i:j:]+'-'+eaf_df.tier_type[i:j:]).tolist()) != sorted((template.tier_name +'-'+ template.tier_type).tolist()):\n",
    "            raise Exception(\"The tier types in the elan file (for speaker \" + ''.join(speaker) + \") does not match the tier types in the template (tier_type field).\")"
   ]
  },
  {
   "cell_type": "code",
   "execution_count": 8,
   "metadata": {
    "collapsed": true
   },
   "outputs": [],
   "source": [
    "# checking the hierarchy of tiers\n",
    "def is_hierarchy(eaf_df):\n",
    "    for index in n_speakers(eaf_df):\n",
    "        i, j = index\n",
    "        speaker = [i for i in set(eaf_df[i:j:]['speaker'])]\n",
    "        if sorted((eaf_df.tier_name[i:j:]+'-'+eaf_df.parent_tier[i:j:]).tolist()) != sorted((template.tier_name +'-'+ template.parent_tier).tolist()):\n",
    "            raise Exception(\"tiers hierarchy in the elan file (for speaker \" + ''.join(speaker) + \") does not match the tiers hierarchy in the template (parent_tier field).\")"
   ]
  },
  {
   "cell_type": "code",
   "execution_count": 9,
   "metadata": {
    "collapsed": true
   },
   "outputs": [],
   "source": [
    "# looking for all elan and wav files\n",
    "def wavs_eafs():\n",
    "    file_names = os.listdir('.')\n",
    "    eafs = []\n",
    "    wavs = []\n",
    "    for file in file_names:\n",
    "        if '.eaf' in file:\n",
    "            eafs.append(file)\n",
    "        if '.wav' in file:\n",
    "            wavs.append(file)\n",
    "    return eafs, wavs"
   ]
  },
  {
   "cell_type": "code",
   "execution_count": 10,
   "metadata": {
    "collapsed": true
   },
   "outputs": [],
   "source": []
  },
  {
   "cell_type": "code",
   "execution_count": 11,
   "metadata": {
    "collapsed": true
   },
   "outputs": [],
   "source": [
    "# checking .eaf file names and file names in the meta.csv\n",
    "def is_file_title(eafs):\n",
    "    if len(set(meta.file_title.tolist())) < len(eafs):\n",
    "        raise Exception(\"You did not specify all the .eaf files in the meta.csv.\")\n",
    "    if len(set(meta.file_title.tolist())) > len(eafs):\n",
    "        raise Exception(\"You have fewer files than you specified in the meta.csv.\")\n",
    "    if sorted(set(meta.file_title.tolist())) != sorted(eafs):\n",
    "        raise Exception(\"The names of the .eaf files do not match the file names in the meta.csv.\")"
   ]
  },
  {
   "cell_type": "code",
   "execution_count": 27,
   "metadata": {
    "collapsed": true
   },
   "outputs": [],
   "source": [
    "# checking names of the speakers in eaf files and in the mata.csv\n",
    "def is_speaker_id(eaf_df, filename):\n",
    "    meta_spiakers = (meta['speaker_id'].loc[meta['file_title'] == filename]).tolist()\n",
    "    eaf_speakers = [i for i in set(eaf_df['speaker'])]\n",
    "    if  sorted(meta_spiakers) != sorted(eaf_speakers):\n",
    "        raise Exception(\"The names of the speakers in the \" + filename + \" and in the metadata do not match.\")"
   ]
  },
  {
   "cell_type": "code",
   "execution_count": 25,
   "metadata": {
    "collapsed": true
   },
   "outputs": [],
   "source": [
    "def main():\n",
    "    for eaf in eafs:\n",
    "        tree = ET.parse(eaf)\n",
    "        root = tree.getroot()\n",
    "        eaf_df = pd.DataFrame(get_eafData(root), columns=['speaker', 'tier_name', 'flex_type', 'lang', 'tier_type', 'parent_tier'])\n",
    "        is_speaker_id(eaf_df, eaf)\n",
    "        is_file_title(eafs)\n",
    "        is_hierarchy(eaf_df)\n",
    "        is_types(eaf_df)\n",
    "        is_names(eaf_df)"
   ]
  },
  {
   "cell_type": "code",
   "execution_count": 26,
   "metadata": {},
   "outputs": [],
   "source": [
    "eafs, wavs = wavs_eafs()\n",
    "main()"
   ]
  }
 ],
 "metadata": {
  "kernelspec": {
   "display_name": "Python 3",
   "language": "python",
   "name": "python3"
  },
  "language_info": {
   "codemirror_mode": {
    "name": "ipython",
    "version": 3
   },
   "file_extension": ".py",
   "mimetype": "text/x-python",
   "name": "python",
   "nbconvert_exporter": "python",
   "pygments_lexer": "ipython3",
   "version": "3.5.2"
  }
 },
 "nbformat": 4,
 "nbformat_minor": 2
}
